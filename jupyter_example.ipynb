{
 "cells": [
  {
   "cell_type": "markdown",
   "metadata": {},
   "source": [
    "# Exemple de notebook\n",
    "\n",
    "Cette première cellule contient du texte formaté en Markdown.\n",
    "\n",
    "Il est possible de mettre en forme le texte **en gras**, *italique*, créer des sous-sections\n",
    "\n",
    "## Sous-section\n",
    "### Sous-sous section\n",
    "\n",
    "De même, il est possible d'écrire des formules $\\LaTeX$ \n",
    "\n",
    "$$ \n",
    "\\prod_{i=1}^{n} i = n!\n",
    "$$"
   ]
  },
  {
   "cell_type": "code",
   "execution_count": 2,
   "metadata": {},
   "outputs": [
    {
     "data": {
      "text/plain": [
       "'Factoriel 10 = 3628800'"
      ]
     },
     "execution_count": 2,
     "metadata": {},
     "output_type": "execute_result"
    }
   ],
   "source": [
    "n = 10\n",
    "p = 1\n",
    "for i in range(1, n+1):\n",
    "    p *= i\n",
    "\"Factoriel {} = {}\".format(n, p)"
   ]
  },
  {
   "cell_type": "code",
   "execution_count": 3,
   "metadata": {},
   "outputs": [
    {
     "data": {
      "text/plain": [
       "3628800"
      ]
     },
     "execution_count": 3,
     "metadata": {},
     "output_type": "execute_result"
    }
   ],
   "source": [
    "import math\n",
    "math.factorial(n)"
   ]
  }
 ],
 "metadata": {
  "kernelspec": {
   "display_name": "Python 3",
   "language": "python",
   "name": "python3"
  },
  "language_info": {
   "codemirror_mode": {
    "name": "ipython",
    "version": 3
   },
   "file_extension": ".py",
   "mimetype": "text/x-python",
   "name": "python",
   "nbconvert_exporter": "python",
   "pygments_lexer": "ipython3",
   "version": "3.8.6"
  }
 },
 "nbformat": 4,
 "nbformat_minor": 4
}
