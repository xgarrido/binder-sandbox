{
  "cells": [
    {
      "cell_type": "markdown",
      "metadata": {},
      "source": [
        "# Python et ses fondamentaux"
      ]
    },
    {
      "cell_type": "markdown",
      "metadata": {},
      "source": [
        "<div class=\"alert alert-block alert-danger\">\n",
        "    <b>Si vous utilisez ce notebook via https://jupytercloud.lal.in2p3.fr ou mybinder, pensez à télécharger votre fichier à la fin de la séance afin de conserver une trace de votre travail !</b>\n",
        "</div>"
      ]
    },
    {
      "cell_type": "markdown",
      "metadata": {},
      "source": [
        "## Calculs simples avec des nombres complexes"
      ]
    },
    {
      "cell_type": "markdown",
      "metadata": {},
      "source": [
        "- Définir une première variable `x1` égale à 10 et une seconde `x2` égale à 10.0. Afficher le statut des variables"
      ]
    },
    {
      "cell_type": "code",
      "execution_count": null,
      "metadata": {
        "tags": [
          "reponse"
        ]
      },
      "outputs": [],
      "source": []
    },
    {
      "cell_type": "markdown",
      "metadata": {},
      "source": [
        "- Afficher la partie réelle puis la partie imaginaire de `x1`. Afficher la taille en bits de `x1`. Lors des différentes opérations, on pourra se servir de l'auto-complétion et de la commande d'aide `?` pour accéder à la documentation de chaque commande"
      ]
    },
    {
      "cell_type": "code",
      "execution_count": null,
      "metadata": {
        "tags": [
          "reponse"
        ]
      },
      "outputs": [],
      "source": []
    },
    {
      "cell_type": "markdown",
      "metadata": {},
      "source": [
        "- Initialiser deux nombres complexes `z1` et `z2` et réaliser un certain nombre d'opérations mathématiques telles qu'addition, multiplication... entre ces deux nombres. Tester également l'élévation à une puissance de ces nombres complexes."
      ]
    },
    {
      "cell_type": "code",
      "execution_count": null,
      "metadata": {
        "tags": [
          "reponse"
        ]
      },
      "outputs": [],
      "source": []
    },
    {
      "cell_type": "markdown",
      "metadata": {},
      "source": [
        "- Calculer le module et l'argument de chacun de ces nombres complexes. On s'aidera pour cela de la librairie mathématique `math` de Python déjà présente dans le système."
      ]
    },
    {
      "cell_type": "code",
      "execution_count": null,
      "metadata": {
        "tags": [
          "reponse"
        ]
      },
      "outputs": [],
      "source": []
    },
    {
      "cell_type": "markdown",
      "metadata": {},
      "source": [
        "- Déterminer à présent le module et l'argument en utilisant la librairie mathématique `cmath` dédiée au calcul sur les nombres complexes et également présente par défaut dans Python."
      ]
    },
    {
      "cell_type": "code",
      "execution_count": null,
      "metadata": {
        "tags": [
          "reponse"
        ]
      },
      "outputs": [],
      "source": []
    },
    {
      "cell_type": "markdown",
      "metadata": {},
      "source": [
        "---"
      ]
    },
    {
      "cell_type": "markdown",
      "metadata": {},
      "source": [
        "## Structure conditionnelle, boucles et autres réjouissances"
      ]
    },
    {
      "cell_type": "markdown",
      "metadata": {},
      "source": [
        "- En fonction d'une valeur entière saisie par l'utilisateur (on utilisera à cette fin la fonction `input` de Python et on prendra bien garde à convertir le résultat en entier), afficher l'un des messages suivants \n",
        "\n",
        "   - Ce nombre est pair\n",
        "   - Ce nombre est impair, mais est multiple de 3\n",
        "   - Ce nombre n'est ni pair ni multiple de 3"
      ]
    },
    {
      "cell_type": "markdown",
      "metadata": {},
      "source": [
        "- Dénombrer le nombre de voyelles dans une phrase que l'utilisateur saisira."
      ]
    },
    {
      "cell_type": "markdown",
      "metadata": {},
      "source": [
        "- Projet Euler n°[1](https://projecteuler.net/problem=1): Calculer la somme des entiers divisibles par 3 ou par 5 dans l'intervalle $[0,N[$ où $N$ sera fourni par l'utilisateur."
      ]
    },
    {
      "cell_type": "markdown",
      "metadata": {},
      "source": [
        "- Projet Euler n°[9](https://projecteuler.net/problem=9): Un triplet de Pythagore est un jeu de trois valeurs entières naturelles $a<b<c$ telles que \n",
        "    \n",
        "    $$a^2+b^2=c^2$$ \n",
        "\n",
        "    Par exemple, $3^2 + 4^2 = 9 + 16 = 25 = 5^2$. Déterminer l'unique triplet $(a, b, c)$ tel que $a+b+c=1000$."
      ]
    },
    {
      "cell_type": "markdown",
      "metadata": {},
      "source": [
        "- Projet Euler n°[16](https://projecteuler.net/problem=16): Donner la somme des chiffres de la représentation décimale de $2^N$ où $N$ est un entier naturel fourni par l'utilisateur. Faire de même avec $N!$ (Projet Euler n°[20](https://projecteuler.net/problem=20))."
      ]
    },
    {
      "cell_type": "markdown",
      "metadata": {},
      "source": [
        "- La suite de Fibonacci est définie de la façon suivante\n",
        "\n",
        "    \\begin{align*}\n",
        "       \\mathcal{F}_1 &= 1 \\\\\n",
        "       \\mathcal{F}_2 &= 1 \\\\\n",
        "       ...\\\\\n",
        "       \\mathcal{F}_n &= \\mathcal{F}_{n-2}+\\mathcal{F}_{n-1}\n",
        "     \\end{align*}\n",
        "\n",
        "    1. Calculer le résultat de cette suite pour un ordre $n$ donné par l'utilisateur. On essaiera en particulier de tirer profit de l'**affectation parallèle** des variables dans Python.\n",
        "    2. Projet Euler n°[2](https://projecteuler.net/problem=2): Calculer la somme des termes de Fibonacci pairs jusqu'à une valeur $N$ donnée par l'utilisateur.\n",
        "    3. Projet Euler n°[25](https://projecteuler.net/problem=25): Déterminer l'indice $n$ du premier terme $\\mathcal{F}_n$ dont la valeur contient plus de 1000 chiffres."
      ]
    },
    {
      "cell_type": "markdown",
      "metadata": {},
      "source": [
        "- La formule de Wallis permet de calculer la valeur de $\\pi$ *via* l'expression\n",
        "\n",
        "     \\begin{align*}\n",
        "       \\pi = 2\\prod_{n=1}^\\infty\\frac{4n^2}{4n^2-1}\n",
        "     \\end{align*}\n",
        "\n",
        "    Déterminer le nombre d'itérations $n$ nécessaires pour que la valeur de $\\pi$ soit correcte jusqu'à la 7<sup>ème</sup> décimale."
      ]
    },
    {
      "cell_type": "markdown",
      "metadata": {},
      "source": [
        "---"
      ]
    },
    {
      "cell_type": "markdown",
      "metadata": {},
      "source": [
        "## Utilisation de fonction et des *containers* Python"
      ]
    },
    {
      "cell_type": "markdown",
      "metadata": {},
      "source": [
        "- Reprendre le Projet Euler n°[1](https://projecteuler.net/problem=1) dont l'objet est le calcul de la somme des entiers divisibles par 3 ou par 5 dans l'intervalle $[0,N[$ **en utilisant une liste établie \"en compréhension\"**. On s'aidera de la fonction intégrée `sum` pour calculer la somme."
      ]
    },
    {
      "cell_type": "markdown",
      "metadata": {},
      "source": [
        "- À l'aide du [crible d'Ératosthène](https://fr.wikipedia.org/wiki/Crible_d%27%C3%89ratosth%C3%A8ne), définir une fonction retournant l'ensemble des nombres premiers étant donné une valeur maximale. Calculer la somme des nombres premiers inférieurs à 2 millions (Projet Euler n°[10](https://projecteuler.net/problem=10))"
      ]
    },
    {
      "cell_type": "markdown",
      "metadata": {},
      "source": [
        "- Projet Euler n°[6](https://projecteuler.net/problem=6) : Calculer le résultat de la formule suivante\n",
        "     \n",
        "     $$\n",
        "       \\left(\\sum_{k=1}^nk\\right)^2 -\\sum_{k=1}^nk^2\n",
        "     $$\n",
        "     \n",
        "    où $n$ sera saisi par l'utilisateur. **On n'utilisera pas de boucle `for` et on minimisera le nombre de lignes de code (typiquement $\\leq$ 2).**"
      ]
    },
    {
      "cell_type": "markdown",
      "metadata": {},
      "source": [
        "- Projet Euler n°[34](https://projecteuler.net/problem=34): Afficher les entiers $i$ (avec $3\\leq i<10^6$) tels que la somme des factorielles de chacune de leurs décimales soit égal à l'entier lui-même (par exemple, $145 = 1!+4!+5!=1+24+120=145$) "
      ]
    },
    {
      "cell_type": "markdown",
      "metadata": {},
      "source": [
        "- Stocker dans une liste tous les nombres inférieurs à 100 000 qui sont des palindromes. Déterminer leur nombre et leur somme. Construire une nouvelle liste contenant les nombres qui sont à la fois des palindromes en représentation décimale et en représentation binaire (Projet Euler n°[36](https://projecteuler.net/problem=36))."
      ]
    },
    {
      "cell_type": "markdown",
      "metadata": {},
      "source": [
        "- On s'aidera, dans cet exercice, des méthodes `join` et `split` de la classe `str`. Demander à l'utilisateur de saisir une chaîne de caractères puis\n",
        "   1. renvoyer une chaîne telle qu'un lecteur l'aurait lue de droite à gauche\n",
        "   2. renvoyer une chaîne où le premier mot devient le dernier, le second mot devient l'avant dernier, ...\n",
        "   3. renvoyer la chaîne de caractères saisie sans les voyelles"
      ]
    },
    {
      "cell_type": "markdown",
      "metadata": {},
      "source": [
        "- Demander à l'utilisateur de saisir son nom, prénom et âge sur une seule ligne et en utilisant le caractère virgule comme séparateur de champ.\n",
        "\n",
        "   1. Présenter le résultat sous la forme \"Votre nom et prénom sont XXX XXX et vous êtes agé(e) de XXX\" en n'oubliant pas les majuscules aux noms propres.\n",
        "   2. Créer ensuite un dictionnaire indexé sur le nom de la personne et conservant son âge."
      ]
    },
    {
      "cell_type": "markdown",
      "metadata": {},
      "source": [
        "- Demander à plusieurs utilisateurs de saisir nom, prénom et âge en utilisant toujours le caractère `,` comme séparateur de champ et stocker chacune des chaînes dans une liste. On terminera la saisie en entrant le caractère `$`. Construire un dictionnaire toujours indexé sur le nom mais qui conservera le prénom et l'âge de la personne. Présenter finalement chacune des entrées du dictionnaire sous une forme intelligible."
      ]
    }
  ],
  "metadata": {
    "kernelspec": {
      "display_name": "Python 3",
      "language": "python",
      "name": "python3"
    },
    "language_info": {
      "codemirror_mode": {
        "name": "ipython",
        "version": 3
      },
      "file_extension": ".py",
      "mimetype": "text/x-python",
      "name": "python",
      "nbconvert_exporter": "python",
      "pygments_lexer": "ipython3",
      "version": "3.8.6"
    },
    "toc-autonumbering": false,
    "toc-showcode": false,
    "toc-showmarkdowntxt": false,
    "toc-showtags": false,
    "widgets": {
      "application/vnd.jupyter.widget-state+json": {
        "state": {},
        "version_major": 2,
        "version_minor": 0
      }
    }
  },
  "nbformat": 4,
  "nbformat_minor": 4
}
