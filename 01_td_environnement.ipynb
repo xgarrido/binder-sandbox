{
  "cells": [
    {
      "cell_type": "markdown",
      "metadata": {},
      "source": [
        "# Python et ses fondamentaux"
      ]
    },
    {
      "cell_type": "markdown",
      "metadata": {},
      "source": [
        "<div class=\"alert alert-block alert-danger\">\n",
        "    Si vous utilisez ce notebook via mybinder, pensez à télécharger votre fichier à la fin de la séance afin de conserver une trace de votre travail !\n",
        "</div>"
      ]
    },
    {
      "cell_type": "markdown",
      "metadata": {},
      "source": [
        "## La calculatrice `Python`"
      ]
    },
    {
      "cell_type": "markdown",
      "metadata": {},
      "source": [
        "- Utiliser les différentes opérations arithmétiques – addition, soustraction, multiplication et division – sur des nombres entiers ainsi que sur des nombres flottants."
      ]
    },
    {
      "cell_type": "code",
      "execution_count": null,
      "metadata": {
        "tags": [
          "reponse"
        ]
      },
      "outputs": [],
      "source": []
    },
    {
      "cell_type": "markdown",
      "metadata": {},
      "source": [
        "- Comparer le résultat de la division de deux entiers lorsque vous utilisez l'opérateur `/` et `//`. Dans le second cas, afficher le reste de la division."
      ]
    },
    {
      "cell_type": "code",
      "execution_count": null,
      "metadata": {
        "tags": [
          "reponse"
        ]
      },
      "outputs": [],
      "source": []
    },
    {
      "cell_type": "markdown",
      "metadata": {},
      "source": [
        "-  À l'aide de la fonction `type` dont on cherchera le fonctionnement à l'aide de l'opérateur `?`, afficher la nature de nombres entier et flottant."
      ]
    },
    {
      "cell_type": "code",
      "execution_count": null,
      "metadata": {
        "tags": [
          "reponse"
        ]
      },
      "outputs": [],
      "source": []
    },
    {
      "cell_type": "markdown",
      "metadata": {},
      "source": [
        "- Déclarer deux nombres `i = 10` et `x = 10.0` et tester leur égalité *via* l'opérateur `==`. Stocker ce résultat dans une variable `are_equal` et retourner son type."
      ]
    },
    {
      "cell_type": "code",
      "execution_count": null,
      "metadata": {
        "tags": [
          "reponse"
        ]
      },
      "outputs": [],
      "source": []
    },
    {
      "cell_type": "markdown",
      "metadata": {},
      "source": [
        "- Calculer le nombre de valeurs pouvant être encodées sur 12 bits."
      ]
    },
    {
      "cell_type": "code",
      "execution_count": null,
      "metadata": {
        "tags": [
          "reponse"
        ]
      },
      "outputs": [],
      "source": []
    },
    {
      "cell_type": "markdown",
      "metadata": {},
      "source": [
        "- Importer le module mathématique de Python à l'aide de la commande\n",
        "\n",
        "   ```python\n",
        "     import math\n",
        "   ```\n",
        "  \n",
        "  \n",
        "  En vous servant de l'aide interactive, déterminer la valeur de factoriel 13. Calculer la valeur du cosinus d'un angle mesurant 666°."
      ]
    },
    {
      "cell_type": "code",
      "execution_count": null,
      "metadata": {
        "tags": [
          "reponse"
        ]
      },
      "outputs": [],
      "source": []
    },
    {
      "cell_type": "markdown",
      "metadata": {},
      "source": [
        "---"
      ]
    },
    {
      "cell_type": "markdown",
      "metadata": {},
      "source": [
        "## Calculs simples avec des nombres complexes"
      ]
    },
    {
      "cell_type": "markdown",
      "metadata": {},
      "source": [
        "- Définir une première variable `x1` égale à 10 et une seconde `x2` égale à 10.0. Afficher le statut des variables"
      ]
    },
    {
      "cell_type": "code",
      "execution_count": null,
      "metadata": {
        "tags": [
          "reponse"
        ]
      },
      "outputs": [],
      "source": []
    },
    {
      "cell_type": "markdown",
      "metadata": {},
      "source": [
        "- Afficher la partie réelle puis la partie imaginaire de `x1`. Afficher la taille en bits de `x1`. Lors des différentes opérations, on pourra se servir de l'auto-complétion et de la commande d'aide `?` pour accéder à la documentation de chaque commande"
      ]
    },
    {
      "cell_type": "code",
      "execution_count": null,
      "metadata": {
        "tags": [
          "reponse"
        ]
      },
      "outputs": [],
      "source": []
    },
    {
      "cell_type": "markdown",
      "metadata": {},
      "source": [
        "- Initialiser deux nombres complexes `z1` et `z2` et réaliser un certain nombre d'opérations mathématiques telles qu'addition, multiplication... entre ces deux nombres. Tester également l'élévation à une puissance de ces nombres complexes."
      ]
    },
    {
      "cell_type": "code",
      "execution_count": null,
      "metadata": {
        "tags": [
          "reponse"
        ]
      },
      "outputs": [],
      "source": []
    },
    {
      "cell_type": "markdown",
      "metadata": {},
      "source": [
        "- Calculer le module et l'argument de chacun de ces nombres complexes. On s'aidera pour cela de la librairie mathématique `math` de Python déjà présente dans le système."
      ]
    },
    {
      "cell_type": "code",
      "execution_count": null,
      "metadata": {
        "tags": [
          "reponse"
        ]
      },
      "outputs": [],
      "source": []
    },
    {
      "cell_type": "markdown",
      "metadata": {},
      "source": [
        "- Déterminer à présent le module et l'argument en utilisant la librairie mathématique `cmath` dédiée au calcul sur les nombres complexes et également présente par défaut dans Python."
      ]
    },
    {
      "cell_type": "code",
      "execution_count": null,
      "metadata": {
        "tags": [
          "reponse"
        ]
      },
      "outputs": [],
      "source": []
    }
  ],
  "metadata": {
    "kernelspec": {
      "display_name": "Python 3",
      "language": "python",
      "name": "python3"
    },
    "language_info": {
      "codemirror_mode": {
        "name": "ipython",
        "version": 3
      },
      "file_extension": ".py",
      "mimetype": "text/x-python",
      "name": "python",
      "nbconvert_exporter": "python",
      "pygments_lexer": "ipython3",
      "version": "3.9.1"
    },
    "toc-autonumbering": false,
    "toc-showcode": false,
    "toc-showmarkdowntxt": false,
    "toc-showtags": false,
    "widgets": {
      "application/vnd.jupyter.widget-state+json": {
        "state": {},
        "version_major": 2,
        "version_minor": 0
      }
    }
  },
  "nbformat": 4,
  "nbformat_minor": 4
}
